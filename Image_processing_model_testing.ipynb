{
 "cells": [
  {
   "cell_type": "code",
   "execution_count": 1,
   "metadata": {
    "collapsed": true
   },
   "outputs": [],
   "source": [
    "from __future__ import print_function\n",
    "import matplotlib.pyplot as plt\n",
    "import numpy as np\n",
    "import os\n",
    "import sys\n",
    "import tarfile\n",
    "from IPython.display import display, Image\n",
    "from scipy import ndimage\n",
    "from scipy.misc import imread, imsave\n",
    "from sklearn.linear_model import LogisticRegression\n",
    "from six.moves.urllib.request import urlretrieve\n",
    "from six.moves import cPickle as pickle\n"
   ]
  },
  {
   "cell_type": "code",
   "execution_count": 10,
   "metadata": {
    "collapsed": false
   },
   "outputs": [
    {
     "name": "stdout",
     "output_type": "stream",
     "text": [
      " [*] Reading checkpoints...\n",
      " [*] Load SUCCESS\n",
      "Epoch: [ 0] [   0/  58] time: 78.5777, d_loss: 1.11815906, g_loss: 0.94069374\n",
      "Epoch: [ 0] [   1/  58] time: 150.9661, d_loss: 1.16530013, g_loss: 0.84208608\n",
      "Epoch: [ 0] [   2/  58] time: 188.2237, d_loss: 0.87581909, g_loss: 1.22578478\n",
      "Epoch: [ 0] [   3/  58] time: 253.7876, d_loss: 1.02606487, g_loss: 0.96607852\n",
      "Epoch: [ 0] [   4/  58] time: 289.1942, d_loss: 1.08535957, g_loss: 0.87440372\n",
      "Epoch: [ 0] [   5/  58] time: 324.7432, d_loss: 0.63523495, g_loss: 1.62405503\n",
      "Epoch: [ 0] [   6/  58] time: 389.3239, d_loss: 1.00674856, g_loss: 0.84759718\n",
      "Epoch: [ 0] [   7/  58] time: 425.0152, d_loss: 0.70715505, g_loss: 1.35678864\n",
      "Epoch: [ 0] [   8/  58] time: 497.2640, d_loss: 0.84344172, g_loss: 1.24818134\n",
      "Epoch: [ 0] [   9/  58] time: 564.6571, d_loss: 0.84707355, g_loss: 1.01156271\n",
      "[Sample] d_loss: 0.84707355, g_loss: 1.01156271\n",
      "Epoch: [ 0] [  10/  58] time: 666.8101, d_loss: 0.85120118, g_loss: 1.06238592\n",
      "^C\n"
     ]
    }
   ],
   "source": [
    "!./train-dcgan.py --dataset ./data/mod64 --epoch 1"
   ]
  },
  {
   "cell_type": "code",
   "execution_count": null,
   "metadata": {
    "collapsed": true
   },
   "outputs": [],
   "source": []
  }
 ],
 "metadata": {
  "anaconda-cloud": {},
  "kernelspec": {
   "display_name": "Python [conda env:DCGAN_env]",
   "language": "python",
   "name": "conda-env-DCGAN_env-py"
  },
  "language_info": {
   "codemirror_mode": {
    "name": "ipython",
    "version": 2
   },
   "file_extension": ".py",
   "mimetype": "text/x-python",
   "name": "python",
   "nbconvert_exporter": "python",
   "pygments_lexer": "ipython2",
   "version": "2.7.12"
  }
 },
 "nbformat": 4,
 "nbformat_minor": 1
}
