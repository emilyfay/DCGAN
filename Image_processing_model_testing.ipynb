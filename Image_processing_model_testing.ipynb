{
 "cells": [
  {
   "cell_type": "code",
   "execution_count": 1,
   "metadata": {
    "collapsed": true
   },
   "outputs": [],
   "source": [
    "from __future__ import print_function\n",
    "import matplotlib.pyplot as plt\n",
    "import numpy as np\n",
    "import os\n",
    "import sys\n",
    "import tarfile\n",
    "from IPython.display import display, Image\n",
    "from scipy import ndimage\n",
    "from scipy.misc import imread, imsave\n",
    "from sklearn.linear_model import LogisticRegression\n",
    "from six.moves.urllib.request import urlretrieve\n",
    "from six.moves import cPickle as pickle\n"
   ]
  },
  {
   "cell_type": "code",
   "execution_count": 2,
   "metadata": {
    "collapsed": false
   },
   "outputs": [
    {
     "name": "stdout",
     "output_type": "stream",
     "text": [
      "Traceback (most recent call last):\n",
      "  File \"./train-dcgan.py\", line 39, in <module>\n",
      "    is_crop=False, checkpoint_dir=FLAGS.checkpoint_dir)\n",
      "  File \"/Users/efay/Insight/DCGAN/CN231/model.py\", line 67, in __init__\n",
      "    self.build_model()\n",
      "  File \"/Users/efay/Insight/DCGAN/CN231/model.py\", line 83, in build_model\n",
      "    self.G = self.generator(self.z)\n",
      "  File \"/Users/efay/Insight/DCGAN/CN231/model.py\", line 249, in generator\n",
      "    h4 = lrelu(self.g_bn4(conv2d(h3, self.gf_dim, name='g_h4')))\n",
      "  File \"/Users/efay/Insight/DCGAN/CN231/ops.py\", line 77, in conv2d\n",
      "    conv = tf.nn.conv2d(input_, w, strides=[1, d_h, d_w, 1], padding='SAME')\n",
      "  File \"/Users/efay/anaconda2/envs/DCGAN_env/lib/python2.7/site-packages/tensorflow/python/ops/gen_nn_ops.py\", line 394, in conv2d\n",
      "    data_format=data_format, name=name)\n",
      "  File \"/Users/efay/anaconda2/envs/DCGAN_env/lib/python2.7/site-packages/tensorflow/python/framework/op_def_library.py\", line 703, in apply_op\n",
      "    op_def=op_def)\n",
      "  File \"/Users/efay/anaconda2/envs/DCGAN_env/lib/python2.7/site-packages/tensorflow/python/framework/ops.py\", line 2319, in create_op\n",
      "    set_shapes_for_outputs(ret)\n",
      "  File \"/Users/efay/anaconda2/envs/DCGAN_env/lib/python2.7/site-packages/tensorflow/python/framework/ops.py\", line 1711, in set_shapes_for_outputs\n",
      "    shapes = shape_func(op)\n",
      "  File \"/Users/efay/anaconda2/envs/DCGAN_env/lib/python2.7/site-packages/tensorflow/python/framework/common_shapes.py\", line 246, in conv2d_shape\n",
      "    padding)\n",
      "  File \"/Users/efay/anaconda2/envs/DCGAN_env/lib/python2.7/site-packages/tensorflow/python/framework/common_shapes.py\", line 184, in get2d_conv_output_size\n",
      "    (row_stride, col_stride), padding_type)\n",
      "  File \"/Users/efay/anaconda2/envs/DCGAN_env/lib/python2.7/site-packages/tensorflow/python/framework/common_shapes.py\", line 149, in get_conv_output_size\n",
      "    \"Filter: %r Input: %r\" % (filter_size, input_size))\n",
      "ValueError: Filter must not be larger than the input: Filter: (5, 5) Input: (4, 4)\n"
     ]
    }
   ],
   "source": [
    "!./train-dcgan.py --dataset ./data/mod64 --epoch 1"
   ]
  },
  {
   "cell_type": "code",
   "execution_count": null,
   "metadata": {
    "collapsed": true
   },
   "outputs": [],
   "source": []
  }
 ],
 "metadata": {
  "anaconda-cloud": {},
  "kernelspec": {
   "display_name": "Python [conda env:DCGAN_env]",
   "language": "python",
   "name": "conda-env-DCGAN_env-py"
  },
  "language_info": {
   "codemirror_mode": {
    "name": "ipython",
    "version": 2
   },
   "file_extension": ".py",
   "mimetype": "text/x-python",
   "name": "python",
   "nbconvert_exporter": "python",
   "pygments_lexer": "ipython2",
   "version": "2.7.12"
  }
 },
 "nbformat": 4,
 "nbformat_minor": 1
}
